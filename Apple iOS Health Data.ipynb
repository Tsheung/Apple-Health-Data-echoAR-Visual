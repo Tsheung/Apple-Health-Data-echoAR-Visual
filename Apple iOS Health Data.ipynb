{
 "cells": [
  {
   "cell_type": "markdown",
   "metadata": {},
   "source": [
    "## Extract 2019 Step Counts from Apple iOS Health Data App"
   ]
  },
  {
   "cell_type": "markdown",
   "metadata": {},
   "source": [
    "Thanks to https://medium.com/better-programming/analyze-your-icloud-health-data-with-pandas-dd5e963e902f for helping me to understand more about Apple's iOS Health Data App and the structure of how to extract the records. "
   ]
  },
  {
   "cell_type": "code",
   "execution_count": 1,
   "metadata": {},
   "outputs": [],
   "source": [
    "#pip install xmltodict"
   ]
  },
  {
   "cell_type": "code",
   "execution_count": 2,
   "metadata": {},
   "outputs": [],
   "source": [
    "import pandas as pd\n",
    "import xmltodict\n",
    "\n",
    "#I decided to remove export.xml to protect my information\n",
    "with open('export.xml', 'r') as xml_data:\n",
    "    input_data = xmltodict.parse(xml_data.read())"
   ]
  },
  {
   "cell_type": "code",
   "execution_count": 3,
   "metadata": {},
   "outputs": [],
   "source": [
    "the_records = input_data['HealthData']['Record']"
   ]
  },
  {
   "cell_type": "code",
   "execution_count": 4,
   "metadata": {},
   "outputs": [
    {
     "data": {
      "text/plain": [
       "Index(['@type', '@sourceName', '@sourceVersion', '@device', '@unit',\n",
       "       '@creationDate', '@startDate', '@endDate', '@value', 'MetadataEntry'],\n",
       "      dtype='object')"
      ]
     },
     "execution_count": 4,
     "metadata": {},
     "output_type": "execute_result"
    }
   ],
   "source": [
    "df = pd.DataFrame(the_records)\n",
    "df.columns"
   ]
  },
  {
   "cell_type": "code",
   "execution_count": 5,
   "metadata": {},
   "outputs": [
    {
     "data": {
      "text/plain": [
       "array(['HKQuantityTypeIdentifierStepCount',\n",
       "       'HKQuantityTypeIdentifierDistanceWalkingRunning',\n",
       "       'HKQuantityTypeIdentifierFlightsClimbed',\n",
       "       'HKCategoryTypeIdentifierSleepAnalysis'], dtype=object)"
      ]
     },
     "execution_count": 5,
     "metadata": {},
     "output_type": "execute_result"
    }
   ],
   "source": [
    "#I chose StepCount\n",
    "df['@type'].unique()"
   ]
  },
  {
   "cell_type": "code",
   "execution_count": 6,
   "metadata": {},
   "outputs": [],
   "source": [
    "#Only extract steps \n",
    "steps = df[df['@type'] == 'HKQuantityTypeIdentifierStepCount']"
   ]
  },
  {
   "cell_type": "code",
   "execution_count": 7,
   "metadata": {},
   "outputs": [
    {
     "data": {
      "text/plain": [
       "0    2016-01-04 19:21:15 -0400\n",
       "1    2016-01-04 20:21:51 -0400\n",
       "2    2016-01-04 20:21:51 -0400\n",
       "3    2016-01-04 21:21:15 -0400\n",
       "4    2016-01-04 23:51:15 -0400\n",
       "5    2016-01-05 09:57:59 -0400\n",
       "6    2016-01-05 11:02:43 -0400\n",
       "7    2016-01-05 11:02:43 -0400\n",
       "8    2016-01-05 11:51:15 -0400\n",
       "9    2016-01-05 11:51:15 -0400\n",
       "Name: @creationDate, dtype: object"
      ]
     },
     "execution_count": 7,
     "metadata": {},
     "output_type": "execute_result"
    }
   ],
   "source": [
    "df['@creationDate'][:10]"
   ]
  },
  {
   "cell_type": "code",
   "execution_count": 8,
   "metadata": {},
   "outputs": [
    {
     "data": {
      "text/plain": [
       "0    2016-01-04 19:11:51 -0400\n",
       "1    2016-01-04 19:17:34 -0400\n",
       "2    2016-01-04 19:24:20 -0400\n",
       "3    2016-01-04 21:15:57 -0400\n",
       "4    2016-01-04 22:56:52 -0400\n",
       "5    2016-01-05 09:19:16 -0400\n",
       "6    2016-01-05 09:54:25 -0400\n",
       "7    2016-01-05 10:44:05 -0400\n",
       "8    2016-01-05 11:28:49 -0400\n",
       "9    2016-01-05 11:38:28 -0400\n",
       "Name: @startDate, dtype: object"
      ]
     },
     "execution_count": 8,
     "metadata": {},
     "output_type": "execute_result"
    }
   ],
   "source": [
    "df['@startDate'][:10]"
   ]
  },
  {
   "cell_type": "code",
   "execution_count": 9,
   "metadata": {},
   "outputs": [
    {
     "data": {
      "text/plain": [
       "0    2016-01-04 19:17:34 -0400\n",
       "1    2016-01-04 19:17:52 -0400\n",
       "2    2016-01-04 19:24:56 -0400\n",
       "3    2016-01-04 21:16:46 -0400\n",
       "4    2016-01-04 23:01:09 -0400\n",
       "5    2016-01-05 09:19:16 -0400\n",
       "6    2016-01-05 09:57:59 -0400\n",
       "7    2016-01-05 10:44:38 -0400\n",
       "8    2016-01-05 11:32:42 -0400\n",
       "9    2016-01-05 11:38:49 -0400\n",
       "Name: @endDate, dtype: object"
      ]
     },
     "execution_count": 9,
     "metadata": {},
     "output_type": "execute_result"
    }
   ],
   "source": [
    "df['@endDate'][:10]"
   ]
  },
  {
   "cell_type": "code",
   "execution_count": 10,
   "metadata": {},
   "outputs": [
    {
     "name": "stderr",
     "output_type": "stream",
     "text": [
      "C:\\Users\\Toby\\Anaconda3\\lib\\site-packages\\ipykernel_launcher.py:3: SettingWithCopyWarning: \n",
      "A value is trying to be set on a copy of a slice from a DataFrame.\n",
      "Try using .loc[row_indexer,col_indexer] = value instead\n",
      "\n",
      "See the caveats in the documentation: http://pandas.pydata.org/pandas-docs/stable/indexing.html#indexing-view-versus-copy\n",
      "  This is separate from the ipykernel package so we can avoid doing imports until\n",
      "C:\\Users\\Toby\\Anaconda3\\lib\\site-packages\\ipykernel_launcher.py:4: SettingWithCopyWarning: \n",
      "A value is trying to be set on a copy of a slice from a DataFrame.\n",
      "Try using .loc[row_indexer,col_indexer] = value instead\n",
      "\n",
      "See the caveats in the documentation: http://pandas.pydata.org/pandas-docs/stable/indexing.html#indexing-view-versus-copy\n",
      "  after removing the cwd from sys.path.\n",
      "C:\\Users\\Toby\\Anaconda3\\lib\\site-packages\\ipykernel_launcher.py:5: SettingWithCopyWarning: \n",
      "A value is trying to be set on a copy of a slice from a DataFrame.\n",
      "Try using .loc[row_indexer,col_indexer] = value instead\n",
      "\n",
      "See the caveats in the documentation: http://pandas.pydata.org/pandas-docs/stable/indexing.html#indexing-view-versus-copy\n",
      "  \"\"\"\n"
     ]
    }
   ],
   "source": [
    "#Examining the date format must be converted to datetime object\n",
    "\n",
    "steps['@creationDate'] = pd.to_datetime(df['@creationDate'])\n",
    "steps['@startDate'] = pd.to_datetime(df['@startDate'])\n",
    "steps['@endDate'] = pd.to_datetime(df['@endDate'])"
   ]
  },
  {
   "cell_type": "code",
   "execution_count": 11,
   "metadata": {},
   "outputs": [
    {
     "name": "stderr",
     "output_type": "stream",
     "text": [
      "C:\\Users\\Toby\\Anaconda3\\lib\\site-packages\\pandas\\core\\indexing.py:543: SettingWithCopyWarning: \n",
      "A value is trying to be set on a copy of a slice from a DataFrame.\n",
      "Try using .loc[row_indexer,col_indexer] = value instead\n",
      "\n",
      "See the caveats in the documentation: http://pandas.pydata.org/pandas-docs/stable/indexing.html#indexing-view-versus-copy\n",
      "  self.obj[item] = s\n"
     ]
    },
    {
     "data": {
      "text/plain": [
       "@type                                             object\n",
       "@sourceName                                       object\n",
       "@sourceVersion                                    object\n",
       "@device                                           object\n",
       "@unit                                             object\n",
       "@creationDate     datetime64[ns, pytz.FixedOffset(-240)]\n",
       "@startDate        datetime64[ns, pytz.FixedOffset(-240)]\n",
       "@endDate          datetime64[ns, pytz.FixedOffset(-240)]\n",
       "@value                                             int64\n",
       "MetadataEntry                                     object\n",
       "dtype: object"
      ]
     },
     "execution_count": 11,
     "metadata": {},
     "output_type": "execute_result"
    }
   ],
   "source": [
    "#Check if value is int\n",
    "steps.loc[:,'@value'] = pd.to_numeric(steps.loc[:, '@value']) \n",
    "steps.dtypes"
   ]
  },
  {
   "cell_type": "code",
   "execution_count": 12,
   "metadata": {},
   "outputs": [],
   "source": [
    "count_steps = steps.groupby('@creationDate').sum()\n",
    "days = count_steps['@value'].resample('D').sum()\n",
    "months = days.resample('M').mean()"
   ]
  },
  {
   "cell_type": "code",
   "execution_count": 13,
   "metadata": {},
   "outputs": [
    {
     "data": {
      "text/plain": [
       "@creationDate\n",
       "2019-01-31 00:00:00-04:00    1367.838710\n",
       "2019-02-28 00:00:00-04:00    2053.642857\n",
       "2019-03-31 00:00:00-04:00    1274.483871\n",
       "2019-04-30 00:00:00-04:00    2701.566667\n",
       "2019-05-31 00:00:00-04:00    1115.580645\n",
       "2019-06-30 00:00:00-04:00    2439.700000\n",
       "2019-07-31 00:00:00-04:00    5511.645161\n",
       "2019-08-31 00:00:00-04:00    1088.451613\n",
       "2019-09-30 00:00:00-04:00    1577.133333\n",
       "2019-10-31 00:00:00-04:00    1689.935484\n",
       "2019-11-30 00:00:00-04:00    1743.866667\n",
       "2019-12-31 00:00:00-04:00    1514.129032\n",
       "Freq: M, Name: @value, dtype: float64"
      ]
     },
     "execution_count": 13,
     "metadata": {},
     "output_type": "execute_result"
    }
   ],
   "source": [
    "# Filter by years = months.index.year\n",
    "# Filter by month = months.index.month\n",
    "\n",
    "avg_steps_month = months[(months.index.year == 2019)]\n",
    "avg_steps_month"
   ]
  },
  {
   "cell_type": "code",
   "execution_count": 14,
   "metadata": {},
   "outputs": [
    {
     "name": "stderr",
     "output_type": "stream",
     "text": [
      "C:\\Users\\Toby\\Anaconda3\\lib\\site-packages\\pandas\\core\\arrays\\datetimes.py:1172: UserWarning: Converting to PeriodArray/Index representation will drop timezone information.\n",
      "  \"will drop timezone information.\", UserWarning)\n"
     ]
    },
    {
     "data": {
      "text/plain": [
       "<matplotlib.axes._subplots.AxesSubplot at 0x217f32276a0>"
      ]
     },
     "execution_count": 14,
     "metadata": {},
     "output_type": "execute_result"
    }
   ],
   "source": [
    "avg_steps_month.plot()"
   ]
  },
  {
   "cell_type": "code",
   "execution_count": 32,
   "metadata": {},
   "outputs": [
    {
     "data": {
      "text/html": [
       "<div>\n",
       "<style scoped>\n",
       "    .dataframe tbody tr th:only-of-type {\n",
       "        vertical-align: middle;\n",
       "    }\n",
       "\n",
       "    .dataframe tbody tr th {\n",
       "        vertical-align: top;\n",
       "    }\n",
       "\n",
       "    .dataframe thead th {\n",
       "        text-align: right;\n",
       "    }\n",
       "</style>\n",
       "<table border=\"1\" class=\"dataframe\">\n",
       "  <thead>\n",
       "    <tr style=\"text-align: right;\">\n",
       "      <th></th>\n",
       "      <th>@value</th>\n",
       "    </tr>\n",
       "  </thead>\n",
       "  <tbody>\n",
       "    <tr>\n",
       "      <th>January</th>\n",
       "      <td>1367.838710</td>\n",
       "    </tr>\n",
       "    <tr>\n",
       "      <th>February</th>\n",
       "      <td>2053.642857</td>\n",
       "    </tr>\n",
       "    <tr>\n",
       "      <th>March</th>\n",
       "      <td>1274.483871</td>\n",
       "    </tr>\n",
       "    <tr>\n",
       "      <th>April</th>\n",
       "      <td>2701.566667</td>\n",
       "    </tr>\n",
       "    <tr>\n",
       "      <th>May</th>\n",
       "      <td>1115.580645</td>\n",
       "    </tr>\n",
       "    <tr>\n",
       "      <th>June</th>\n",
       "      <td>2439.700000</td>\n",
       "    </tr>\n",
       "    <tr>\n",
       "      <th>July</th>\n",
       "      <td>5511.645161</td>\n",
       "    </tr>\n",
       "    <tr>\n",
       "      <th>August</th>\n",
       "      <td>1088.451613</td>\n",
       "    </tr>\n",
       "    <tr>\n",
       "      <th>September</th>\n",
       "      <td>1577.133333</td>\n",
       "    </tr>\n",
       "    <tr>\n",
       "      <th>October</th>\n",
       "      <td>1689.935484</td>\n",
       "    </tr>\n",
       "    <tr>\n",
       "      <th>November</th>\n",
       "      <td>1743.866667</td>\n",
       "    </tr>\n",
       "    <tr>\n",
       "      <th>December</th>\n",
       "      <td>1514.129032</td>\n",
       "    </tr>\n",
       "  </tbody>\n",
       "</table>\n",
       "</div>"
      ],
      "text/plain": [
       "                @value\n",
       "January    1367.838710\n",
       "February   2053.642857\n",
       "March      1274.483871\n",
       "April      2701.566667\n",
       "May        1115.580645\n",
       "June       2439.700000\n",
       "July       5511.645161\n",
       "August     1088.451613\n",
       "September  1577.133333\n",
       "October    1689.935484\n",
       "November   1743.866667\n",
       "December   1514.129032"
      ]
     },
     "execution_count": 32,
     "metadata": {},
     "output_type": "execute_result"
    }
   ],
   "source": [
    "#Export into csv file with the months data for 2019\n",
    "months = ['January', 'February', 'March', 'April', 'May', 'June', 'July', \n",
    "          'August', 'September', 'October', 'November', 'December']\n",
    "\n",
    "frame = pd.DataFrame(avg_steps_month)\n",
    "frame.index = months\n",
    "frame"
   ]
  },
  {
   "cell_type": "code",
   "execution_count": 34,
   "metadata": {},
   "outputs": [
    {
     "data": {
      "text/html": [
       "<div>\n",
       "<style scoped>\n",
       "    .dataframe tbody tr th:only-of-type {\n",
       "        vertical-align: middle;\n",
       "    }\n",
       "\n",
       "    .dataframe tbody tr th {\n",
       "        vertical-align: top;\n",
       "    }\n",
       "\n",
       "    .dataframe thead th {\n",
       "        text-align: right;\n",
       "    }\n",
       "</style>\n",
       "<table border=\"1\" class=\"dataframe\">\n",
       "  <thead>\n",
       "    <tr style=\"text-align: right;\">\n",
       "      <th></th>\n",
       "      <th>@value</th>\n",
       "    </tr>\n",
       "  </thead>\n",
       "  <tbody>\n",
       "    <tr>\n",
       "      <th>January</th>\n",
       "      <td>7</td>\n",
       "    </tr>\n",
       "    <tr>\n",
       "      <th>February</th>\n",
       "      <td>11</td>\n",
       "    </tr>\n",
       "    <tr>\n",
       "      <th>March</th>\n",
       "      <td>7</td>\n",
       "    </tr>\n",
       "    <tr>\n",
       "      <th>April</th>\n",
       "      <td>14</td>\n",
       "    </tr>\n",
       "    <tr>\n",
       "      <th>May</th>\n",
       "      <td>6</td>\n",
       "    </tr>\n",
       "    <tr>\n",
       "      <th>June</th>\n",
       "      <td>13</td>\n",
       "    </tr>\n",
       "    <tr>\n",
       "      <th>July</th>\n",
       "      <td>28</td>\n",
       "    </tr>\n",
       "    <tr>\n",
       "      <th>August</th>\n",
       "      <td>6</td>\n",
       "    </tr>\n",
       "    <tr>\n",
       "      <th>September</th>\n",
       "      <td>8</td>\n",
       "    </tr>\n",
       "    <tr>\n",
       "      <th>October</th>\n",
       "      <td>9</td>\n",
       "    </tr>\n",
       "    <tr>\n",
       "      <th>November</th>\n",
       "      <td>9</td>\n",
       "    </tr>\n",
       "    <tr>\n",
       "      <th>December</th>\n",
       "      <td>8</td>\n",
       "    </tr>\n",
       "  </tbody>\n",
       "</table>\n",
       "</div>"
      ],
      "text/plain": [
       "           @value\n",
       "January         7\n",
       "February       11\n",
       "March           7\n",
       "April          14\n",
       "May             6\n",
       "June           13\n",
       "July           28\n",
       "August          6\n",
       "September       8\n",
       "October         9\n",
       "November        9\n",
       "December        8"
      ]
     },
     "execution_count": 34,
     "metadata": {},
     "output_type": "execute_result"
    }
   ],
   "source": [
    "#Scale down the values for easier bargraph creation\n",
    "import math\n",
    "new_scale = []\n",
    "\n",
    "for i in frame['@value'].values:\n",
    "    i = math.ceil(i/200)\n",
    "    new_scale.append(i)\n",
    "    \n",
    "frame['@value'] = new_scale\n",
    "frame"
   ]
  },
  {
   "cell_type": "code",
   "execution_count": 39,
   "metadata": {},
   "outputs": [],
   "source": [
    "#Export the dataframe into a csv for echoAR to use the values\n",
    "frame.to_csv(\"echoar_metadata.csv\", header=False)"
   ]
  }
 ],
 "metadata": {
  "kernelspec": {
   "display_name": "Python 3",
   "language": "python",
   "name": "python3"
  },
  "language_info": {
   "codemirror_mode": {
    "name": "ipython",
    "version": 3
   },
   "file_extension": ".py",
   "mimetype": "text/x-python",
   "name": "python",
   "nbconvert_exporter": "python",
   "pygments_lexer": "ipython3",
   "version": "3.7.3"
  }
 },
 "nbformat": 4,
 "nbformat_minor": 2
}
